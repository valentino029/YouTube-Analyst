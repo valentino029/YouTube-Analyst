{
  "nbformat": 4,
  "nbformat_minor": 0,
  "metadata": {
    "colab": {
      "name": "Tugas_Friendska_ErixS.ipynb",
      "provenance": []
    },
    "kernelspec": {
      "name": "python3",
      "display_name": "Python 3"
    },
    "language_info": {
      "name": "python"
    }
  },
  "cells": [
    {
      "cell_type": "markdown",
      "metadata": {
        "id": "o8BEIBpVMO7g"
      },
      "source": [
        "**Memanggil Library Yang Digunakan**"
      ]
    },
    {
      "cell_type": "code",
      "metadata": {
        "id": "FvmBNcecDLMP"
      },
      "source": [
        "from googleapiclient.discovery import build\n",
        "import os\n",
        "import pandas as pd\n",
        "import seaborn as sns\n",
        "import matplotlib.pyplot as plt"
      ],
      "execution_count": 69,
      "outputs": []
    },
    {
      "cell_type": "markdown",
      "metadata": {
        "id": "CHnVCho4Mcj-"
      },
      "source": [
        "**Konfigurasi API Serta Channel YouTube**"
      ]
    },
    {
      "cell_type": "code",
      "metadata": {
        "id": "70HO79EMDRlc"
      },
      "source": [
        "API_KEY = \"#\"\n",
        "CHANNEL_ID = \"UCJLVa5D8lAep2HqJNDl__NQ\" #Ini Channel ID Erix Soekamti\n",
        "youtube = build('youtube', 'v3', developerKey=API_KEY)"
      ],
      "execution_count": 70,
      "outputs": []
    },
    {
      "cell_type": "markdown",
      "metadata": {
        "id": "m_GxbMnDMolD"
      },
      "source": [
        "**Fungsi Untuk Mendapatkan Statistik Channel**"
      ]
    },
    {
      "cell_type": "code",
      "metadata": {
        "id": "L0yFod-UD2PH"
      },
      "source": [
        "def get_channel_stats(youtube, channel_id):\n",
        "    request = youtube.channels().list(\n",
        "        part=\"snippet,contentDetails,statistics\",\n",
        "        id=channel_id\n",
        "    )\n",
        "    response = request.execute()\n",
        "    \n",
        "    return response['items']"
      ],
      "execution_count": 71,
      "outputs": []
    },
    {
      "cell_type": "code",
      "metadata": {
        "id": "vg1y5vrJEnZo"
      },
      "source": [
        "def get_video_list(youtube, upload_id):\n",
        "    video_list = []\n",
        "    request = youtube.playlistItems().list(\n",
        "        part=\"snippet,contentDetails\",\n",
        "        playlistId=upload_id,\n",
        "        maxResults=50\n",
        "    )\n",
        "    next_page = True\n",
        "    while next_page:\n",
        "        response = request.execute()\n",
        "        data = response['items']\n",
        "\n",
        "        for video in data:\n",
        "            video_id = video['contentDetails']['videoId']\n",
        "            if video_id not in video_list:\n",
        "                video_list.append(video_id)\n",
        "\n",
        "        # Do we have more pages?\n",
        "        if 'nextPageToken' in response.keys():\n",
        "            next_page = True\n",
        "            request = youtube.playlistItems().list(\n",
        "                part=\"snippet,contentDetails\",\n",
        "                playlistId=upload_id,\n",
        "                pageToken=response['nextPageToken'],\n",
        "                maxResults=50\n",
        "            )\n",
        "        else:\n",
        "            next_page = False\n",
        "\n",
        "    return video_list"
      ],
      "execution_count": 72,
      "outputs": []
    },
    {
      "cell_type": "code",
      "metadata": {
        "id": "29maR0zfEp53"
      },
      "source": [
        "def get_video_details(youtube, video_list):\n",
        "    stats_list=[]\n",
        "\n",
        "    \n",
        "    for i in range(0, len(video_list), 50):\n",
        "        request= youtube.videos().list(\n",
        "            part=\"snippet,contentDetails,statistics\",\n",
        "            id=video_list[i:i+50]\n",
        "        )\n",
        "\n",
        "        data = request.execute()\n",
        "        for video in data['items']:\n",
        "            title=video['snippet']['title']\n",
        "            published=video['snippet']['publishedAt']\n",
        "            description=video['snippet']['description']\n",
        "            #tag_count= len(video['snippet']['tags'])\n",
        "            view_count=video['statistics'].get('viewCount',0)\n",
        "            like_count=video['statistics'].get('likeCount',0)\n",
        "            dislike_count=video['statistics'].get('dislikeCount',0)\n",
        "            comment_count=video['statistics'].get('commentCount',0)\n",
        "            stats_dict=dict(title=title, description=description, published=published, view_count=view_count, like_count=like_count, dislike_count=dislike_count, comment_count=comment_count)\n",
        "            stats_list.append(stats_dict)\n",
        "\n",
        "    return stats_list"
      ],
      "execution_count": 73,
      "outputs": []
    },
    {
      "cell_type": "code",
      "metadata": {
        "id": "JpXnBMkKEr_n"
      },
      "source": [
        "channel_stats = get_channel_stats(youtube, CHANNEL_ID)\n"
      ],
      "execution_count": 74,
      "outputs": []
    },
    {
      "cell_type": "code",
      "metadata": {
        "colab": {
          "base_uri": "https://localhost:8080/",
          "height": 35
        },
        "id": "nayxND7cEuMG",
        "outputId": "80d6b50f-fce1-4f7c-8875-838e7436db59"
      },
      "source": [
        "upload_id = channel_stats[0]['contentDetails']['relatedPlaylists']['uploads']\n",
        "upload_id"
      ],
      "execution_count": 75,
      "outputs": [
        {
          "output_type": "execute_result",
          "data": {
            "application/vnd.google.colaboratory.intrinsic+json": {
              "type": "string"
            },
            "text/plain": [
              "'UUJLVa5D8lAep2HqJNDl__NQ'"
            ]
          },
          "metadata": {},
          "execution_count": 75
        }
      ]
    },
    {
      "cell_type": "code",
      "metadata": {
        "id": "lT8wHLeMEwNm"
      },
      "source": [
        "video_list = get_video_list(youtube, upload_id)"
      ],
      "execution_count": 76,
      "outputs": []
    },
    {
      "cell_type": "code",
      "metadata": {
        "id": "INMTpXJWE0o9"
      },
      "source": [
        "video_data = get_video_details(youtube, video_list)"
      ],
      "execution_count": 77,
      "outputs": []
    },
    {
      "cell_type": "markdown",
      "metadata": {
        "id": "B7hlgH8CM3dJ"
      },
      "source": [
        "**Melihat Sampel Data Kemudian Disimpan Dalam CSV**"
      ]
    },
    {
      "cell_type": "code",
      "metadata": {
        "colab": {
          "base_uri": "https://localhost:8080/",
          "height": 833
        },
        "id": "dxQezRsVFfER",
        "outputId": "cc497c92-dcbf-4d92-e6b9-1f1c0981b574"
      },
      "source": [
        "df=pd.DataFrame(video_data)\n",
        "df['title_length'] = df['title'].str.len()\n",
        "df[\"view_count\"] = pd.to_numeric(df[\"view_count\"])\n",
        "df[\"like_count\"] = pd.to_numeric(df[\"like_count\"])\n",
        "df[\"dislike_count\"] = pd.to_numeric(df[\"dislike_count\"])\n",
        "df[\"comment_count\"] = pd.to_numeric(df[\"comment_count\"])\n",
        "# reaction used later add up likes + dislikes + comments\n",
        "df[\"reactions\"] = df[\"like_count\"] + df[\"dislike_count\"] + df[\"comment_count\"] + df[\"comment_count\"]\n",
        "df.to_csv(\"ErixS-Data.csv\")\n",
        "df.head(25)"
      ],
      "execution_count": 78,
      "outputs": [
        {
          "output_type": "execute_result",
          "data": {
            "text/html": [
              "<div>\n",
              "<style scoped>\n",
              "    .dataframe tbody tr th:only-of-type {\n",
              "        vertical-align: middle;\n",
              "    }\n",
              "\n",
              "    .dataframe tbody tr th {\n",
              "        vertical-align: top;\n",
              "    }\n",
              "\n",
              "    .dataframe thead th {\n",
              "        text-align: right;\n",
              "    }\n",
              "</style>\n",
              "<table border=\"1\" class=\"dataframe\">\n",
              "  <thead>\n",
              "    <tr style=\"text-align: right;\">\n",
              "      <th></th>\n",
              "      <th>title</th>\n",
              "      <th>description</th>\n",
              "      <th>published</th>\n",
              "      <th>view_count</th>\n",
              "      <th>like_count</th>\n",
              "      <th>dislike_count</th>\n",
              "      <th>comment_count</th>\n",
              "      <th>title_length</th>\n",
              "      <th>reactions</th>\n",
              "    </tr>\n",
              "  </thead>\n",
              "  <tbody>\n",
              "    <tr>\n",
              "      <th>0</th>\n",
              "      <td>SUDAH GAK ADA AHMAD DHANI DI EPISODE KALI INI ...</td>\n",
              "      <td>SUDAH GAK ADA AHMAD DHANI DI EPISODE KALI INI ...</td>\n",
              "      <td>2021-09-02T04:36:39Z</td>\n",
              "      <td>39718</td>\n",
              "      <td>952</td>\n",
              "      <td>10</td>\n",
              "      <td>133</td>\n",
              "      <td>59</td>\n",
              "      <td>1228</td>\n",
              "    </tr>\n",
              "    <tr>\n",
              "      <th>1</th>\n",
              "      <td>KEGAGALAN DEWA 19 MENURUT AHMAD DHANI #DOES ep...</td>\n",
              "      <td>KEGAGALAN DEWA 19 MENURUT AHMAD DHANI #DOES ep...</td>\n",
              "      <td>2021-08-30T23:30:00Z</td>\n",
              "      <td>98710</td>\n",
              "      <td>3103</td>\n",
              "      <td>44</td>\n",
              "      <td>395</td>\n",
              "      <td>51</td>\n",
              "      <td>3937</td>\n",
              "    </tr>\n",
              "    <tr>\n",
              "      <th>2</th>\n",
              "      <td>ROOM TOUR VILLA AHMAD DHANI #DOES eps 936</td>\n",
              "      <td>ROOM TOUR VILLA AHMAD DHANI #DOES eps 936\\nSoe...</td>\n",
              "      <td>2021-08-28T13:34:40Z</td>\n",
              "      <td>131681</td>\n",
              "      <td>2644</td>\n",
              "      <td>57</td>\n",
              "      <td>273</td>\n",
              "      <td>41</td>\n",
              "      <td>3247</td>\n",
              "    </tr>\n",
              "    <tr>\n",
              "      <th>3</th>\n",
              "      <td>UJI NYALI DI VILLA MATARAM AHMAD DHANI #DOES e...</td>\n",
              "      <td>UJI NYALI DI VILLA MATARAM AHMAD DHANI #DOES e...</td>\n",
              "      <td>2021-08-27T12:08:29Z</td>\n",
              "      <td>262083</td>\n",
              "      <td>3728</td>\n",
              "      <td>107</td>\n",
              "      <td>494</td>\n",
              "      <td>52</td>\n",
              "      <td>4823</td>\n",
              "    </tr>\n",
              "    <tr>\n",
              "      <th>4</th>\n",
              "      <td>DIJEMPUT PAKSA AHMAD DHANI #DOES eps 934</td>\n",
              "      <td>DIJEMPUT PAKSA AHMAD DHANI #DOES eps 934\\n\\nPe...</td>\n",
              "      <td>2021-08-23T00:00:10Z</td>\n",
              "      <td>167840</td>\n",
              "      <td>2314</td>\n",
              "      <td>72</td>\n",
              "      <td>161</td>\n",
              "      <td>40</td>\n",
              "      <td>2708</td>\n",
              "    </tr>\n",
              "    <tr>\n",
              "      <th>5</th>\n",
              "      <td>SUDAH GAK PERAWAN #DOES eps 933</td>\n",
              "      <td>SUDAH GAK PERAWAN #DOES eps 933\\n\\nErix Soekam...</td>\n",
              "      <td>2021-08-20T07:37:18Z</td>\n",
              "      <td>26598</td>\n",
              "      <td>644</td>\n",
              "      <td>7</td>\n",
              "      <td>126</td>\n",
              "      <td>31</td>\n",
              "      <td>903</td>\n",
              "    </tr>\n",
              "    <tr>\n",
              "      <th>6</th>\n",
              "      <td>AHMAD DHANI KW LOR SAMBI #DOES eps 932</td>\n",
              "      <td>AHMAD DHANI KW LOR SAMBI #DOES eps 932\\n\\nErix...</td>\n",
              "      <td>2021-08-19T00:00:12Z</td>\n",
              "      <td>34727</td>\n",
              "      <td>538</td>\n",
              "      <td>5</td>\n",
              "      <td>45</td>\n",
              "      <td>38</td>\n",
              "      <td>633</td>\n",
              "    </tr>\n",
              "    <tr>\n",
              "      <th>7</th>\n",
              "      <td>TERGELINCIR JURANG 100 METER! #DOES eps 931</td>\n",
              "      <td>TERGELINCIR JURANG 100 METER! #DOES eps 931\\n\\...</td>\n",
              "      <td>2021-08-17T11:55:35Z</td>\n",
              "      <td>34005</td>\n",
              "      <td>774</td>\n",
              "      <td>9</td>\n",
              "      <td>109</td>\n",
              "      <td>43</td>\n",
              "      <td>1001</td>\n",
              "    </tr>\n",
              "    <tr>\n",
              "      <th>8</th>\n",
              "      <td>DISKRIMINASI BINATANG #DOES eps 930</td>\n",
              "      <td>DISKRIMINASI BINATANG #DOES eps 930\\n\\nErix So...</td>\n",
              "      <td>2021-08-16T00:00:56Z</td>\n",
              "      <td>23808</td>\n",
              "      <td>519</td>\n",
              "      <td>6</td>\n",
              "      <td>110</td>\n",
              "      <td>35</td>\n",
              "      <td>745</td>\n",
              "    </tr>\n",
              "    <tr>\n",
              "      <th>9</th>\n",
              "      <td>WALI KOTA SEMARANG KEGEP! #DOES eps 929</td>\n",
              "      <td>WALI KOTA SEMARANG KEGEP! #DOES eps 929\\n\\nEri...</td>\n",
              "      <td>2021-08-14T23:30:11Z</td>\n",
              "      <td>24436</td>\n",
              "      <td>612</td>\n",
              "      <td>7</td>\n",
              "      <td>35</td>\n",
              "      <td>39</td>\n",
              "      <td>689</td>\n",
              "    </tr>\n",
              "    <tr>\n",
              "      <th>10</th>\n",
              "      <td>MENEMUKAN KELEMAHAN MOBIL EXPANDER #DOES eps 928</td>\n",
              "      <td>MENEMUKAN KELEMAHAN MOBIL EXPANDER #DOES eps 9...</td>\n",
              "      <td>2021-08-12T23:30:03Z</td>\n",
              "      <td>20645</td>\n",
              "      <td>470</td>\n",
              "      <td>11</td>\n",
              "      <td>47</td>\n",
              "      <td>48</td>\n",
              "      <td>575</td>\n",
              "    </tr>\n",
              "    <tr>\n",
              "      <th>11</th>\n",
              "      <td>DARAH KAFIR #DOES eps 927</td>\n",
              "      <td>DARAH KAFIR #DOES eps 927\\n\\nErix Soekamti is ...</td>\n",
              "      <td>2021-08-10T06:24:21Z</td>\n",
              "      <td>20631</td>\n",
              "      <td>548</td>\n",
              "      <td>11</td>\n",
              "      <td>80</td>\n",
              "      <td>25</td>\n",
              "      <td>719</td>\n",
              "    </tr>\n",
              "    <tr>\n",
              "      <th>12</th>\n",
              "      <td>ALAM TIDAK PERLU DIBELA!!! AKTIVIS MINGGIR DUL...</td>\n",
              "      <td>ALAM TIDAK PERLU DIBELA!!! AKTIVIS MINGGIR DUL...</td>\n",
              "      <td>2021-08-08T09:58:30Z</td>\n",
              "      <td>41100</td>\n",
              "      <td>1083</td>\n",
              "      <td>24</td>\n",
              "      <td>156</td>\n",
              "      <td>63</td>\n",
              "      <td>1419</td>\n",
              "    </tr>\n",
              "    <tr>\n",
              "      <th>13</th>\n",
              "      <td>CANGKEMU! #DOES eps 925</td>\n",
              "      <td>CANGKEMU! #DOES eps 925\\n\\nErix Soekamti is a ...</td>\n",
              "      <td>2021-08-06T13:00:36Z</td>\n",
              "      <td>21408</td>\n",
              "      <td>624</td>\n",
              "      <td>7</td>\n",
              "      <td>41</td>\n",
              "      <td>23</td>\n",
              "      <td>713</td>\n",
              "    </tr>\n",
              "    <tr>\n",
              "      <th>14</th>\n",
              "      <td>DEMO! #DOES eps 924</td>\n",
              "      <td>DEMO! #DOES eps 924\\n\\nErix Soekamti is a bass...</td>\n",
              "      <td>2021-08-05T02:11:06Z</td>\n",
              "      <td>25110</td>\n",
              "      <td>685</td>\n",
              "      <td>7</td>\n",
              "      <td>60</td>\n",
              "      <td>19</td>\n",
              "      <td>812</td>\n",
              "    </tr>\n",
              "    <tr>\n",
              "      <th>15</th>\n",
              "      <td>RAHASIA HIDUP LEBIH LAMA #DOES eps 923 @Erix S...</td>\n",
              "      <td>RAHASIA BISA HIDUP SEHAT 100 TAHUN LEBIH #DOES...</td>\n",
              "      <td>2021-08-03T10:33:08Z</td>\n",
              "      <td>23920</td>\n",
              "      <td>887</td>\n",
              "      <td>5</td>\n",
              "      <td>90</td>\n",
              "      <td>53</td>\n",
              "      <td>1072</td>\n",
              "    </tr>\n",
              "    <tr>\n",
              "      <th>16</th>\n",
              "      <td>EKSPEKTASI #DOES eps 922</td>\n",
              "      <td>EKSPEKTASI #DOES eps 922\\n\\nErix Soekamti is a...</td>\n",
              "      <td>2021-08-02T06:13:04Z</td>\n",
              "      <td>28234</td>\n",
              "      <td>852</td>\n",
              "      <td>5</td>\n",
              "      <td>82</td>\n",
              "      <td>24</td>\n",
              "      <td>1021</td>\n",
              "    </tr>\n",
              "    <tr>\n",
              "      <th>17</th>\n",
              "      <td>ANAK PREMAN MASUK PESANTREN #DOES eps 921</td>\n",
              "      <td>ANAK PREMAN MASUK PESANTREN #DOES eps 921\\n\\nE...</td>\n",
              "      <td>2021-08-01T02:49:48Z</td>\n",
              "      <td>47355</td>\n",
              "      <td>1199</td>\n",
              "      <td>10</td>\n",
              "      <td>184</td>\n",
              "      <td>41</td>\n",
              "      <td>1577</td>\n",
              "    </tr>\n",
              "    <tr>\n",
              "      <th>18</th>\n",
              "      <td>PPKM MAKAN ￼20 MENIT #DOES eps 920</td>\n",
              "      <td>PPKM MAKAN ￼20 MENIT #DOES eps 920\\n\\nErix Soe...</td>\n",
              "      <td>2021-07-31T01:15:22Z</td>\n",
              "      <td>28810</td>\n",
              "      <td>865</td>\n",
              "      <td>8</td>\n",
              "      <td>128</td>\n",
              "      <td>34</td>\n",
              "      <td>1129</td>\n",
              "    </tr>\n",
              "    <tr>\n",
              "      <th>19</th>\n",
              "      <td>SOBA STUDIO #DOES eps 919 @Erix Soekamti</td>\n",
              "      <td>SOBA STUDIO #DOES eps 919\\n\\nErix Soekamti is ...</td>\n",
              "      <td>2021-07-29T04:03:39Z</td>\n",
              "      <td>33073</td>\n",
              "      <td>767</td>\n",
              "      <td>8</td>\n",
              "      <td>89</td>\n",
              "      <td>40</td>\n",
              "      <td>953</td>\n",
              "    </tr>\n",
              "    <tr>\n",
              "      <th>20</th>\n",
              "      <td>DITANTANG AHMAD DHANI #DOES eps 918</td>\n",
              "      <td>DITANTANG AHMAD DHANY #DOES eps 918 @Erix Soek...</td>\n",
              "      <td>2021-07-27T14:22:46Z</td>\n",
              "      <td>163183</td>\n",
              "      <td>2848</td>\n",
              "      <td>54</td>\n",
              "      <td>300</td>\n",
              "      <td>35</td>\n",
              "      <td>3502</td>\n",
              "    </tr>\n",
              "    <tr>\n",
              "      <th>21</th>\n",
              "      <td>TIM BEDAH LAHAN GELANGPROJO #DOES eps 917 @Eri...</td>\n",
              "      <td>bagi investor atau teman teman yang ingin berg...</td>\n",
              "      <td>2021-07-26T05:38:24Z</td>\n",
              "      <td>32199</td>\n",
              "      <td>945</td>\n",
              "      <td>12</td>\n",
              "      <td>100</td>\n",
              "      <td>56</td>\n",
              "      <td>1157</td>\n",
              "    </tr>\n",
              "    <tr>\n",
              "      <th>22</th>\n",
              "      <td>SAMPAH!!! # DOES eps 916 @Erix Soekamti</td>\n",
              "      <td>SAMPAH!!! # DOES eps 916\\n\\nsubscribe , like ,...</td>\n",
              "      <td>2021-07-25T02:29:38Z</td>\n",
              "      <td>26968</td>\n",
              "      <td>857</td>\n",
              "      <td>8</td>\n",
              "      <td>130</td>\n",
              "      <td>39</td>\n",
              "      <td>1125</td>\n",
              "    </tr>\n",
              "    <tr>\n",
              "      <th>23</th>\n",
              "      <td>BIKIN SIBUK MASYARAKAT!!! #DOES eps 915 @Erix ...</td>\n",
              "      <td>BIKIN SIBUK MASYARAKAT!!! #DOES eps 915\\n\\nsub...</td>\n",
              "      <td>2021-07-24T02:18:56Z</td>\n",
              "      <td>31656</td>\n",
              "      <td>1390</td>\n",
              "      <td>11</td>\n",
              "      <td>154</td>\n",
              "      <td>54</td>\n",
              "      <td>1709</td>\n",
              "    </tr>\n",
              "    <tr>\n",
              "      <th>24</th>\n",
              "      <td>DICOVIDKAN!!!! #DOES eps 914 @Erix Soekamti</td>\n",
              "      <td>DICOVIDKAN!!!! #DOES eps 914\\n\\n\\nsubscribe , ...</td>\n",
              "      <td>2021-07-22T02:07:54Z</td>\n",
              "      <td>69428</td>\n",
              "      <td>1533</td>\n",
              "      <td>27</td>\n",
              "      <td>302</td>\n",
              "      <td>43</td>\n",
              "      <td>2164</td>\n",
              "    </tr>\n",
              "  </tbody>\n",
              "</table>\n",
              "</div>"
            ],
            "text/plain": [
              "                                                title  ... reactions\n",
              "0   SUDAH GAK ADA AHMAD DHANI DI EPISODE KALI INI ...  ...      1228\n",
              "1   KEGAGALAN DEWA 19 MENURUT AHMAD DHANI #DOES ep...  ...      3937\n",
              "2           ROOM TOUR VILLA AHMAD DHANI #DOES eps 936  ...      3247\n",
              "3   UJI NYALI DI VILLA MATARAM AHMAD DHANI #DOES e...  ...      4823\n",
              "4            DIJEMPUT PAKSA AHMAD DHANI #DOES eps 934  ...      2708\n",
              "5                     SUDAH GAK PERAWAN #DOES eps 933  ...       903\n",
              "6              AHMAD DHANI KW LOR SAMBI #DOES eps 932  ...       633\n",
              "7         TERGELINCIR JURANG 100 METER! #DOES eps 931  ...      1001\n",
              "8                 DISKRIMINASI BINATANG #DOES eps 930  ...       745\n",
              "9             WALI KOTA SEMARANG KEGEP! #DOES eps 929  ...       689\n",
              "10   MENEMUKAN KELEMAHAN MOBIL EXPANDER #DOES eps 928  ...       575\n",
              "11                          DARAH KAFIR #DOES eps 927  ...       719\n",
              "12  ALAM TIDAK PERLU DIBELA!!! AKTIVIS MINGGIR DUL...  ...      1419\n",
              "13                            CANGKEMU! #DOES eps 925  ...       713\n",
              "14                                DEMO! #DOES eps 924  ...       812\n",
              "15  RAHASIA HIDUP LEBIH LAMA #DOES eps 923 @Erix S...  ...      1072\n",
              "16                           EKSPEKTASI #DOES eps 922  ...      1021\n",
              "17          ANAK PREMAN MASUK PESANTREN #DOES eps 921  ...      1577\n",
              "18                 PPKM MAKAN ￼20 MENIT #DOES eps 920  ...      1129\n",
              "19           SOBA STUDIO #DOES eps 919 @Erix Soekamti  ...       953\n",
              "20                DITANTANG AHMAD DHANI #DOES eps 918  ...      3502\n",
              "21  TIM BEDAH LAHAN GELANGPROJO #DOES eps 917 @Eri...  ...      1157\n",
              "22            SAMPAH!!! # DOES eps 916 @Erix Soekamti  ...      1125\n",
              "23  BIKIN SIBUK MASYARAKAT!!! #DOES eps 915 @Erix ...  ...      1709\n",
              "24        DICOVIDKAN!!!! #DOES eps 914 @Erix Soekamti  ...      2164\n",
              "\n",
              "[25 rows x 9 columns]"
            ]
          },
          "metadata": {},
          "execution_count": 78
        }
      ]
    },
    {
      "cell_type": "code",
      "metadata": {
        "colab": {
          "base_uri": "https://localhost:8080/"
        },
        "id": "1GYNohXTGE0l",
        "outputId": "cb07793d-86a9-478d-8f3c-8c88ab8cb619"
      },
      "source": [
        "print(df)"
      ],
      "execution_count": 79,
      "outputs": [
        {
          "output_type": "stream",
          "name": "stdout",
          "text": [
            "                                                  title  ... reactions\n",
            "0     SUDAH GAK ADA AHMAD DHANI DI EPISODE KALI INI ...  ...      1228\n",
            "1     KEGAGALAN DEWA 19 MENURUT AHMAD DHANI #DOES ep...  ...      3937\n",
            "2             ROOM TOUR VILLA AHMAD DHANI #DOES eps 936  ...      3247\n",
            "3     UJI NYALI DI VILLA MATARAM AHMAD DHANI #DOES e...  ...      4823\n",
            "4              DIJEMPUT PAKSA AHMAD DHANI #DOES eps 934  ...      2708\n",
            "...                                                 ...  ...       ...\n",
            "1157  Endank Soekamti \" NARCOBRA \" ( anak band anti ...  ...       576\n",
            "1158                  profesor GodBlessYou menolak bala  ...        24\n",
            "1159                Soekamti Competition #2 edisi PANCO  ...        61\n",
            "1160                               Soekamti Competition  ...       142\n",
            "1161                                               Test  ...       112\n",
            "\n",
            "[1162 rows x 9 columns]\n"
          ]
        }
      ]
    },
    {
      "cell_type": "markdown",
      "metadata": {
        "id": "VzYNLfgPNDwJ"
      },
      "source": [
        "**Menampilkan Grafik Banyaknya Video Berdasarkan Panjang Judul**"
      ]
    },
    {
      "cell_type": "code",
      "metadata": {
        "colab": {
          "base_uri": "https://localhost:8080/",
          "height": 391
        },
        "id": "WTycsPdOFl4v",
        "outputId": "7040726e-54c8-4c0e-fdb8-c71c2e18b6f5"
      },
      "source": [
        "chart = sns.distplot( a=df[\"title_length\"], hist=True, kde=False, rug=False )\n",
        "chart.set(xlabel='Panjang Judul', ylabel='Banyaknya Video')"
      ],
      "execution_count": 80,
      "outputs": [
        {
          "output_type": "stream",
          "name": "stderr",
          "text": [
            "/usr/local/lib/python3.7/dist-packages/seaborn/distributions.py:2557: FutureWarning: `distplot` is a deprecated function and will be removed in a future version. Please adapt your code to use either `displot` (a figure-level function with similar flexibility) or `histplot` (an axes-level function for histograms).\n",
            "  warnings.warn(msg, FutureWarning)\n"
          ]
        },
        {
          "output_type": "execute_result",
          "data": {
            "text/plain": [
              "[Text(0, 0.5, 'Banyaknya Video'), Text(0.5, 0, 'Panjang Judul')]"
            ]
          },
          "metadata": {},
          "execution_count": 80
        },
        {
          "output_type": "display_data",
          "data": {
            "image/png": "[encoded data removed]",
            "text/plain": [
              "<Figure size 1440x360 with 1 Axes>"
            ]
          },
          "metadata": {}
        }
      ]
    },
    {
      "cell_type": "markdown",
      "metadata": {
        "id": "1gP1rJUCNMLv"
      },
      "source": [
        "**Menampilkan Grafik Video Yang Paling Banyak Dilihat**"
      ]
    },
    {
      "cell_type": "code",
      "metadata": {
        "colab": {
          "base_uri": "https://localhost:8080/",
          "height": 363
        },
        "id": "0m4RcrNLGUz8",
        "outputId": "d379bff1-a8fa-48ec-e89c-b92e955f89c9"
      },
      "source": [
        "df_highest_views = df.nlargest(10, 'view_count')\n",
        "df_highest_views['title'] = df_highest_views['title'].str[:40]\n",
        "df_highest_views['view_count_millions'] = df_highest_views['view_count'] / 1000000\n",
        "df_highest_views"
      ],
      "execution_count": 81,
      "outputs": [
        {
          "output_type": "execute_result",
          "data": {
            "text/html": [
              "<div>\n",
              "<style scoped>\n",
              "    .dataframe tbody tr th:only-of-type {\n",
              "        vertical-align: middle;\n",
              "    }\n",
              "\n",
              "    .dataframe tbody tr th {\n",
              "        vertical-align: top;\n",
              "    }\n",
              "\n",
              "    .dataframe thead th {\n",
              "        text-align: right;\n",
              "    }\n",
              "</style>\n",
              "<table border=\"1\" class=\"dataframe\">\n",
              "  <thead>\n",
              "    <tr style=\"text-align: right;\">\n",
              "      <th></th>\n",
              "      <th>title</th>\n",
              "      <th>description</th>\n",
              "      <th>published</th>\n",
              "      <th>view_count</th>\n",
              "      <th>like_count</th>\n",
              "      <th>dislike_count</th>\n",
              "      <th>comment_count</th>\n",
              "      <th>title_length</th>\n",
              "      <th>reactions</th>\n",
              "      <th>view_count_millions</th>\n",
              "    </tr>\n",
              "  </thead>\n",
              "  <tbody>\n",
              "    <tr>\n",
              "      <th>1112</th>\n",
              "      <td>The Rain feat Endank Soekamti - Terlatih</td>\n",
              "      <td>Music Video of The Rain feat Endank Soekamti ‘...</td>\n",
              "      <td>2013-12-04T13:15:59Z</td>\n",
              "      <td>34202358</td>\n",
              "      <td>129713</td>\n",
              "      <td>3439</td>\n",
              "      <td>7785</td>\n",
              "      <td>65</td>\n",
              "      <td>148722</td>\n",
              "      <td>34.202358</td>\n",
              "    </tr>\n",
              "    <tr>\n",
              "      <th>260</th>\n",
              "      <td>KEJADIAN ANEH DI MAKAM DRUMER SEVENTEEN</td>\n",
              "      <td>KEJADIAN ANEH DI MAKAM DRUMER SEVENTEEN #DOES ...</td>\n",
              "      <td>2018-12-30T18:47:34Z</td>\n",
              "      <td>3801549</td>\n",
              "      <td>34239</td>\n",
              "      <td>2393</td>\n",
              "      <td>1824</td>\n",
              "      <td>53</td>\n",
              "      <td>40280</td>\n",
              "      <td>3.801549</td>\n",
              "    </tr>\n",
              "    <tr>\n",
              "      <th>1055</th>\n",
              "      <td>Cherrybelle - Malam Minggu (Director's C</td>\n",
              "      <td>Music Video of Cherrybelle ‘Malam Minggu’.\\nSu...</td>\n",
              "      <td>2015-07-20T20:09:30Z</td>\n",
              "      <td>1646040</td>\n",
              "      <td>29190</td>\n",
              "      <td>522</td>\n",
              "      <td>2210</td>\n",
              "      <td>43</td>\n",
              "      <td>34132</td>\n",
              "      <td>1.646040</td>\n",
              "    </tr>\n",
              "    <tr>\n",
              "      <th>298</th>\n",
              "      <td>PIJAT PLUS PLUS #DOES eps 697</td>\n",
              "      <td>PIJAT PLUS PLUS #DOES (eps 697)\\n\\nSubscribe t...</td>\n",
              "      <td>2018-09-23T03:13:12Z</td>\n",
              "      <td>1440078</td>\n",
              "      <td>1789</td>\n",
              "      <td>652</td>\n",
              "      <td>204</td>\n",
              "      <td>29</td>\n",
              "      <td>2849</td>\n",
              "      <td>1.440078</td>\n",
              "    </tr>\n",
              "    <tr>\n",
              "      <th>133</th>\n",
              "      <td>IWAN FALS TELAH BERUBAH #DOES eps 806</td>\n",
              "      <td>Erix Soekamti is a bassist of an Indonesian ro...</td>\n",
              "      <td>2020-03-25T07:40:52Z</td>\n",
              "      <td>1132467</td>\n",
              "      <td>16158</td>\n",
              "      <td>572</td>\n",
              "      <td>1539</td>\n",
              "      <td>37</td>\n",
              "      <td>19808</td>\n",
              "      <td>1.132467</td>\n",
              "    </tr>\n",
              "    <tr>\n",
              "      <th>308</th>\n",
              "      <td>SEKSI #DOES eps 687</td>\n",
              "      <td>SEKSI  #DOES (eps 687)\\n\\nSubscribe to Erix So...</td>\n",
              "      <td>2018-08-19T03:45:54Z</td>\n",
              "      <td>949521</td>\n",
              "      <td>2096</td>\n",
              "      <td>520</td>\n",
              "      <td>167</td>\n",
              "      <td>19</td>\n",
              "      <td>2950</td>\n",
              "      <td>0.949521</td>\n",
              "    </tr>\n",
              "    <tr>\n",
              "      <th>776</th>\n",
              "      <td>Erix Soekamti: VIDEO UNTUK ARI SOEKAMTI</td>\n",
              "      <td>Diary of Erix Soekamti ‘VIDEO UNTUK ARI SOEKAM...</td>\n",
              "      <td>2016-06-23T20:53:57Z</td>\n",
              "      <td>800159</td>\n",
              "      <td>11880</td>\n",
              "      <td>230</td>\n",
              "      <td>2155</td>\n",
              "      <td>56</td>\n",
              "      <td>16420</td>\n",
              "      <td>0.800159</td>\n",
              "    </tr>\n",
              "    <tr>\n",
              "      <th>271</th>\n",
              "      <td>OM BAGUS NTRL NGAMUK BATAL KONSER #DOES</td>\n",
              "      <td>OM BAGUS NTRL NGAMUK BATAL KONSER #DOES (eps 7...</td>\n",
              "      <td>2018-11-24T12:27:07Z</td>\n",
              "      <td>761982</td>\n",
              "      <td>5187</td>\n",
              "      <td>379</td>\n",
              "      <td>389</td>\n",
              "      <td>47</td>\n",
              "      <td>6344</td>\n",
              "      <td>0.761982</td>\n",
              "    </tr>\n",
              "    <tr>\n",
              "      <th>807</th>\n",
              "      <td>Erix Soekamti: MATA NAJWA RUSUH? (#DOES</td>\n",
              "      <td>Diary of Erix Soekamti ‘MATA NAJWA RUSUH? (#DO...</td>\n",
              "      <td>2016-05-14T17:23:18Z</td>\n",
              "      <td>690502</td>\n",
              "      <td>6466</td>\n",
              "      <td>230</td>\n",
              "      <td>1125</td>\n",
              "      <td>49</td>\n",
              "      <td>8946</td>\n",
              "      <td>0.690502</td>\n",
              "    </tr>\n",
              "    <tr>\n",
              "      <th>963</th>\n",
              "      <td>Erix Soekamti: SHEILA ON 7 #DOES eps 90</td>\n",
              "      <td>Erix Soekamti: SHEILA ON 7 #DOES (eps 90)\\n\\nS...</td>\n",
              "      <td>2015-11-14T09:03:36Z</td>\n",
              "      <td>634790</td>\n",
              "      <td>6059</td>\n",
              "      <td>144</td>\n",
              "      <td>550</td>\n",
              "      <td>39</td>\n",
              "      <td>7303</td>\n",
              "      <td>0.634790</td>\n",
              "    </tr>\n",
              "  </tbody>\n",
              "</table>\n",
              "</div>"
            ],
            "text/plain": [
              "                                         title  ... view_count_millions\n",
              "1112  The Rain feat Endank Soekamti - Terlatih  ...           34.202358\n",
              "260   KEJADIAN ANEH DI MAKAM DRUMER SEVENTEEN   ...            3.801549\n",
              "1055  Cherrybelle - Malam Minggu (Director's C  ...            1.646040\n",
              "298              PIJAT PLUS PLUS #DOES eps 697  ...            1.440078\n",
              "133      IWAN FALS TELAH BERUBAH #DOES eps 806  ...            1.132467\n",
              "308                        SEKSI #DOES eps 687  ...            0.949521\n",
              "776   Erix Soekamti: VIDEO UNTUK ARI SOEKAMTI   ...            0.800159\n",
              "271   OM BAGUS NTRL NGAMUK BATAL KONSER #DOES   ...            0.761982\n",
              "807   Erix Soekamti: MATA NAJWA RUSUH? (#DOES   ...            0.690502\n",
              "963    Erix Soekamti: SHEILA ON 7 #DOES eps 90  ...            0.634790\n",
              "\n",
              "[10 rows x 10 columns]"
            ]
          },
          "metadata": {},
          "execution_count": 81
        }
      ]
    },
    {
      "cell_type": "code",
      "metadata": {
        "colab": {
          "base_uri": "https://localhost:8080/",
          "height": 373
        },
        "id": "K_1PJhr7FvFX",
        "outputId": "8ea397f4-2105-4156-f3e1-2763aa2a6984"
      },
      "source": [
        "sns.set(rc={'figure.figsize':(20,5)})\n",
        "plot = sns.barplot(x=\"view_count_millions\", y=\"title\", data=df_highest_views, palette=\"bright\")\n",
        "plot.set(xlabel='View Dalam Juta', ylabel='')\n",
        "plot.set_title('Video Paling Banyak Dilihat')\n",
        "plt.xlim(0, 35)"
      ],
      "execution_count": 82,
      "outputs": [
        {
          "output_type": "execute_result",
          "data": {
            "text/plain": [
              "(0.0, 35.0)"
            ]
          },
          "metadata": {},
          "execution_count": 82
        },
        {
          "output_type": "display_data",
          "data": {
            "image/png": "[encoded data removed]",
            "text/plain": [
              "<Figure size 1440x360 with 1 Axes>"
            ]
          },
          "metadata": {}
        }
      ]
    },
    {
      "cell_type": "markdown",
      "metadata": {
        "id": "tiZ5rs8-sVDd"
      },
      "source": [
        "**Menampilkan Grafik Reaksi Paling Banyak Terhadap Video (Like, Dislike, Comment)**"
      ]
    },
    {
      "cell_type": "code",
      "metadata": {
        "colab": {
          "base_uri": "https://localhost:8080/",
          "height": 363
        },
        "id": "wnqE_QPjsEP0",
        "outputId": "70d4af8c-3c30-4edf-f667-9dd790afe50c"
      },
      "source": [
        "df_highest_reactions = df.nlargest(10, 'reactions')\n",
        "df_highest_reactions['title'] = df_highest_reactions['title'].str[:40]\n",
        "df_highest_reactions['reactions'] = df_highest_reactions['reactions'] / 1\n",
        "df_highest_reactions"
      ],
      "execution_count": 87,
      "outputs": [
        {
          "output_type": "execute_result",
          "data": {
            "text/html": [
              "<div>\n",
              "<style scoped>\n",
              "    .dataframe tbody tr th:only-of-type {\n",
              "        vertical-align: middle;\n",
              "    }\n",
              "\n",
              "    .dataframe tbody tr th {\n",
              "        vertical-align: top;\n",
              "    }\n",
              "\n",
              "    .dataframe thead th {\n",
              "        text-align: right;\n",
              "    }\n",
              "</style>\n",
              "<table border=\"1\" class=\"dataframe\">\n",
              "  <thead>\n",
              "    <tr style=\"text-align: right;\">\n",
              "      <th></th>\n",
              "      <th>title</th>\n",
              "      <th>description</th>\n",
              "      <th>published</th>\n",
              "      <th>view_count</th>\n",
              "      <th>like_count</th>\n",
              "      <th>dislike_count</th>\n",
              "      <th>comment_count</th>\n",
              "      <th>title_length</th>\n",
              "      <th>reactions</th>\n",
              "    </tr>\n",
              "  </thead>\n",
              "  <tbody>\n",
              "    <tr>\n",
              "      <th>1112</th>\n",
              "      <td>The Rain feat Endank Soekamti - Terlatih</td>\n",
              "      <td>Music Video of The Rain feat Endank Soekamti ‘...</td>\n",
              "      <td>2013-12-04T13:15:59Z</td>\n",
              "      <td>34202358</td>\n",
              "      <td>129713</td>\n",
              "      <td>3439</td>\n",
              "      <td>7785</td>\n",
              "      <td>65</td>\n",
              "      <td>148722.0</td>\n",
              "    </tr>\n",
              "    <tr>\n",
              "      <th>260</th>\n",
              "      <td>KEJADIAN ANEH DI MAKAM DRUMER SEVENTEEN</td>\n",
              "      <td>KEJADIAN ANEH DI MAKAM DRUMER SEVENTEEN #DOES ...</td>\n",
              "      <td>2018-12-30T18:47:34Z</td>\n",
              "      <td>3801549</td>\n",
              "      <td>34239</td>\n",
              "      <td>2393</td>\n",
              "      <td>1824</td>\n",
              "      <td>53</td>\n",
              "      <td>40280.0</td>\n",
              "    </tr>\n",
              "    <tr>\n",
              "      <th>1055</th>\n",
              "      <td>Cherrybelle - Malam Minggu (Director's C</td>\n",
              "      <td>Music Video of Cherrybelle ‘Malam Minggu’.\\nSu...</td>\n",
              "      <td>2015-07-20T20:09:30Z</td>\n",
              "      <td>1646040</td>\n",
              "      <td>29190</td>\n",
              "      <td>522</td>\n",
              "      <td>2210</td>\n",
              "      <td>43</td>\n",
              "      <td>34132.0</td>\n",
              "    </tr>\n",
              "    <tr>\n",
              "      <th>133</th>\n",
              "      <td>IWAN FALS TELAH BERUBAH #DOES eps 806</td>\n",
              "      <td>Erix Soekamti is a bassist of an Indonesian ro...</td>\n",
              "      <td>2020-03-25T07:40:52Z</td>\n",
              "      <td>1132467</td>\n",
              "      <td>16158</td>\n",
              "      <td>572</td>\n",
              "      <td>1539</td>\n",
              "      <td>37</td>\n",
              "      <td>19808.0</td>\n",
              "    </tr>\n",
              "    <tr>\n",
              "      <th>776</th>\n",
              "      <td>Erix Soekamti: VIDEO UNTUK ARI SOEKAMTI</td>\n",
              "      <td>Diary of Erix Soekamti ‘VIDEO UNTUK ARI SOEKAM...</td>\n",
              "      <td>2016-06-23T20:53:57Z</td>\n",
              "      <td>800159</td>\n",
              "      <td>11880</td>\n",
              "      <td>230</td>\n",
              "      <td>2155</td>\n",
              "      <td>56</td>\n",
              "      <td>16420.0</td>\n",
              "    </tr>\n",
              "    <tr>\n",
              "      <th>261</th>\n",
              "      <td>AMANAH BANI SEVENTEEN BAND SEBELUM MENIN</td>\n",
              "      <td>SELAMAT JALAN SEVENTEEN BAND SAUDARA KU  #DOES...</td>\n",
              "      <td>2018-12-30T18:10:40Z</td>\n",
              "      <td>524030</td>\n",
              "      <td>11022</td>\n",
              "      <td>130</td>\n",
              "      <td>695</td>\n",
              "      <td>58</td>\n",
              "      <td>12542.0</td>\n",
              "    </tr>\n",
              "    <tr>\n",
              "      <th>275</th>\n",
              "      <td>THX JRX VS VV #DOES eps 721</td>\n",
              "      <td>THX JRX VS VV #DOES eps 721\\n\\nSubscribe to Er...</td>\n",
              "      <td>2018-11-16T08:30:49Z</td>\n",
              "      <td>374275</td>\n",
              "      <td>6780</td>\n",
              "      <td>263</td>\n",
              "      <td>1185</td>\n",
              "      <td>27</td>\n",
              "      <td>9413.0</td>\n",
              "    </tr>\n",
              "    <tr>\n",
              "      <th>807</th>\n",
              "      <td>Erix Soekamti: MATA NAJWA RUSUH? (#DOES</td>\n",
              "      <td>Diary of Erix Soekamti ‘MATA NAJWA RUSUH? (#DO...</td>\n",
              "      <td>2016-05-14T17:23:18Z</td>\n",
              "      <td>690502</td>\n",
              "      <td>6466</td>\n",
              "      <td>230</td>\n",
              "      <td>1125</td>\n",
              "      <td>49</td>\n",
              "      <td>8946.0</td>\n",
              "    </tr>\n",
              "    <tr>\n",
              "      <th>325</th>\n",
              "      <td>30 HARI BERSAMA SUKU IBAN #DOES eps 673</td>\n",
              "      <td>30 HARI BERSAMA SUKU IBAN #DOES (eps 673)\\n\\nS...</td>\n",
              "      <td>2018-07-15T18:13:46Z</td>\n",
              "      <td>516366</td>\n",
              "      <td>7130</td>\n",
              "      <td>247</td>\n",
              "      <td>440</td>\n",
              "      <td>39</td>\n",
              "      <td>8257.0</td>\n",
              "    </tr>\n",
              "    <tr>\n",
              "      <th>170</th>\n",
              "      <td>DERRY SILUMAN MUSIK ITU HARAM #DOES eps</td>\n",
              "      <td>DOES EPS 769\\n\\nErix Soekamti is a bassist of ...</td>\n",
              "      <td>2019-10-29T05:40:59Z</td>\n",
              "      <td>251358</td>\n",
              "      <td>5679</td>\n",
              "      <td>249</td>\n",
              "      <td>1147</td>\n",
              "      <td>43</td>\n",
              "      <td>8222.0</td>\n",
              "    </tr>\n",
              "  </tbody>\n",
              "</table>\n",
              "</div>"
            ],
            "text/plain": [
              "                                         title  ... reactions\n",
              "1112  The Rain feat Endank Soekamti - Terlatih  ...  148722.0\n",
              "260   KEJADIAN ANEH DI MAKAM DRUMER SEVENTEEN   ...   40280.0\n",
              "1055  Cherrybelle - Malam Minggu (Director's C  ...   34132.0\n",
              "133      IWAN FALS TELAH BERUBAH #DOES eps 806  ...   19808.0\n",
              "776   Erix Soekamti: VIDEO UNTUK ARI SOEKAMTI   ...   16420.0\n",
              "261   AMANAH BANI SEVENTEEN BAND SEBELUM MENIN  ...   12542.0\n",
              "275                THX JRX VS VV #DOES eps 721  ...    9413.0\n",
              "807   Erix Soekamti: MATA NAJWA RUSUH? (#DOES   ...    8946.0\n",
              "325    30 HARI BERSAMA SUKU IBAN #DOES eps 673  ...    8257.0\n",
              "170   DERRY SILUMAN MUSIK ITU HARAM #DOES eps   ...    8222.0\n",
              "\n",
              "[10 rows x 9 columns]"
            ]
          },
          "metadata": {},
          "execution_count": 87
        }
      ]
    },
    {
      "cell_type": "code",
      "metadata": {
        "colab": {
          "base_uri": "https://localhost:8080/",
          "height": 399
        },
        "id": "C11TZLJwsJoc",
        "outputId": "573be951-5dd0-4d15-8fb5-6c7195dad634"
      },
      "source": [
        "sns.set(rc={'figure.figsize':(20,5)})\n",
        "plot = sns.barplot(y=\"title\", x=\"reactions\", data=df_highest_reactions, palette=\"bright\")\n",
        "plot.set(xlabel='Jumlah Reactions', ylabel='')\n",
        "plt.xticks(rotation=45)\n",
        "plot.set_title('Reactions Video Paling Banyak')\n",
        "plt.xlim(0, 150000)"
      ],
      "execution_count": 89,
      "outputs": [
        {
          "output_type": "execute_result",
          "data": {
            "text/plain": [
              "(0.0, 150000.0)"
            ]
          },
          "metadata": {},
          "execution_count": 89
        },
        {
          "output_type": "display_data",
          "data": {
            "image/png": "[encoded data removed]",
            "text/plain": [
              "<Figure size 1440x360 with 1 Axes>"
            ]
          },
          "metadata": {}
        }
      ]
    },
    {
      "cell_type": "markdown",
      "metadata": {
        "id": "qkEJMZfuNUtY"
      },
      "source": [
        "**Menampilkan Grafik Video Yang Paling Banyak Mendapat Dislike**"
      ]
    },
    {
      "cell_type": "code",
      "metadata": {
        "colab": {
          "base_uri": "https://localhost:8080/",
          "height": 363
        },
        "id": "Qmii2sVZHXsv",
        "outputId": "89518083-eaf0-4f04-86ec-caa36c1f1828"
      },
      "source": [
        "df_highest_disliked = df.nlargest(10, 'dislike_count')\n",
        "df_highest_disliked['title'] = df_highest_disliked['title'].str[:40]\n",
        "df_highest_disliked['dislike_count'] = df_highest_disliked['dislike_count'] / 1\n",
        "df_highest_disliked"
      ],
      "execution_count": 83,
      "outputs": [
        {
          "output_type": "execute_result",
          "data": {
            "text/html": [
              "<div>\n",
              "<style scoped>\n",
              "    .dataframe tbody tr th:only-of-type {\n",
              "        vertical-align: middle;\n",
              "    }\n",
              "\n",
              "    .dataframe tbody tr th {\n",
              "        vertical-align: top;\n",
              "    }\n",
              "\n",
              "    .dataframe thead th {\n",
              "        text-align: right;\n",
              "    }\n",
              "</style>\n",
              "<table border=\"1\" class=\"dataframe\">\n",
              "  <thead>\n",
              "    <tr style=\"text-align: right;\">\n",
              "      <th></th>\n",
              "      <th>title</th>\n",
              "      <th>description</th>\n",
              "      <th>published</th>\n",
              "      <th>view_count</th>\n",
              "      <th>like_count</th>\n",
              "      <th>dislike_count</th>\n",
              "      <th>comment_count</th>\n",
              "      <th>title_length</th>\n",
              "      <th>reactions</th>\n",
              "    </tr>\n",
              "  </thead>\n",
              "  <tbody>\n",
              "    <tr>\n",
              "      <th>1112</th>\n",
              "      <td>The Rain feat Endank Soekamti - Terlatih</td>\n",
              "      <td>Music Video of The Rain feat Endank Soekamti ‘...</td>\n",
              "      <td>2013-12-04T13:15:59Z</td>\n",
              "      <td>34202358</td>\n",
              "      <td>129713</td>\n",
              "      <td>3439.0</td>\n",
              "      <td>7785</td>\n",
              "      <td>65</td>\n",
              "      <td>148722</td>\n",
              "    </tr>\n",
              "    <tr>\n",
              "      <th>260</th>\n",
              "      <td>KEJADIAN ANEH DI MAKAM DRUMER SEVENTEEN</td>\n",
              "      <td>KEJADIAN ANEH DI MAKAM DRUMER SEVENTEEN #DOES ...</td>\n",
              "      <td>2018-12-30T18:47:34Z</td>\n",
              "      <td>3801549</td>\n",
              "      <td>34239</td>\n",
              "      <td>2393.0</td>\n",
              "      <td>1824</td>\n",
              "      <td>53</td>\n",
              "      <td>40280</td>\n",
              "    </tr>\n",
              "    <tr>\n",
              "      <th>298</th>\n",
              "      <td>PIJAT PLUS PLUS #DOES eps 697</td>\n",
              "      <td>PIJAT PLUS PLUS #DOES (eps 697)\\n\\nSubscribe t...</td>\n",
              "      <td>2018-09-23T03:13:12Z</td>\n",
              "      <td>1440078</td>\n",
              "      <td>1789</td>\n",
              "      <td>652.0</td>\n",
              "      <td>204</td>\n",
              "      <td>29</td>\n",
              "      <td>2849</td>\n",
              "    </tr>\n",
              "    <tr>\n",
              "      <th>133</th>\n",
              "      <td>IWAN FALS TELAH BERUBAH #DOES eps 806</td>\n",
              "      <td>Erix Soekamti is a bassist of an Indonesian ro...</td>\n",
              "      <td>2020-03-25T07:40:52Z</td>\n",
              "      <td>1132467</td>\n",
              "      <td>16158</td>\n",
              "      <td>572.0</td>\n",
              "      <td>1539</td>\n",
              "      <td>37</td>\n",
              "      <td>19808</td>\n",
              "    </tr>\n",
              "    <tr>\n",
              "      <th>1055</th>\n",
              "      <td>Cherrybelle - Malam Minggu (Director's C</td>\n",
              "      <td>Music Video of Cherrybelle ‘Malam Minggu’.\\nSu...</td>\n",
              "      <td>2015-07-20T20:09:30Z</td>\n",
              "      <td>1646040</td>\n",
              "      <td>29190</td>\n",
              "      <td>522.0</td>\n",
              "      <td>2210</td>\n",
              "      <td>43</td>\n",
              "      <td>34132</td>\n",
              "    </tr>\n",
              "    <tr>\n",
              "      <th>308</th>\n",
              "      <td>SEKSI #DOES eps 687</td>\n",
              "      <td>SEKSI  #DOES (eps 687)\\n\\nSubscribe to Erix So...</td>\n",
              "      <td>2018-08-19T03:45:54Z</td>\n",
              "      <td>949521</td>\n",
              "      <td>2096</td>\n",
              "      <td>520.0</td>\n",
              "      <td>167</td>\n",
              "      <td>19</td>\n",
              "      <td>2950</td>\n",
              "    </tr>\n",
              "    <tr>\n",
              "      <th>1017</th>\n",
              "      <td>MEDICAL CHECK UP #DOES eps 37</td>\n",
              "      <td>MEDICAL CHECK UP #DOES (eps 37)\\n\\nSubscribe t...</td>\n",
              "      <td>2015-09-09T19:44:50Z</td>\n",
              "      <td>501934</td>\n",
              "      <td>1595</td>\n",
              "      <td>389.0</td>\n",
              "      <td>264</td>\n",
              "      <td>29</td>\n",
              "      <td>2512</td>\n",
              "    </tr>\n",
              "    <tr>\n",
              "      <th>271</th>\n",
              "      <td>OM BAGUS NTRL NGAMUK BATAL KONSER #DOES</td>\n",
              "      <td>OM BAGUS NTRL NGAMUK BATAL KONSER #DOES (eps 7...</td>\n",
              "      <td>2018-11-24T12:27:07Z</td>\n",
              "      <td>761982</td>\n",
              "      <td>5187</td>\n",
              "      <td>379.0</td>\n",
              "      <td>389</td>\n",
              "      <td>47</td>\n",
              "      <td>6344</td>\n",
              "    </tr>\n",
              "    <tr>\n",
              "      <th>136</th>\n",
              "      <td>ALHAMDULILLAH #DOES eps 803</td>\n",
              "      <td>DOES 803\\nErix Soekamti is a bassist of an Ind...</td>\n",
              "      <td>2020-03-12T01:29:28Z</td>\n",
              "      <td>315120</td>\n",
              "      <td>6080</td>\n",
              "      <td>279.0</td>\n",
              "      <td>753</td>\n",
              "      <td>27</td>\n",
              "      <td>7865</td>\n",
              "    </tr>\n",
              "    <tr>\n",
              "      <th>275</th>\n",
              "      <td>THX JRX VS VV #DOES eps 721</td>\n",
              "      <td>THX JRX VS VV #DOES eps 721\\n\\nSubscribe to Er...</td>\n",
              "      <td>2018-11-16T08:30:49Z</td>\n",
              "      <td>374275</td>\n",
              "      <td>6780</td>\n",
              "      <td>263.0</td>\n",
              "      <td>1185</td>\n",
              "      <td>27</td>\n",
              "      <td>9413</td>\n",
              "    </tr>\n",
              "  </tbody>\n",
              "</table>\n",
              "</div>"
            ],
            "text/plain": [
              "                                         title  ... reactions\n",
              "1112  The Rain feat Endank Soekamti - Terlatih  ...    148722\n",
              "260   KEJADIAN ANEH DI MAKAM DRUMER SEVENTEEN   ...     40280\n",
              "298              PIJAT PLUS PLUS #DOES eps 697  ...      2849\n",
              "133      IWAN FALS TELAH BERUBAH #DOES eps 806  ...     19808\n",
              "1055  Cherrybelle - Malam Minggu (Director's C  ...     34132\n",
              "308                        SEKSI #DOES eps 687  ...      2950\n",
              "1017             MEDICAL CHECK UP #DOES eps 37  ...      2512\n",
              "271   OM BAGUS NTRL NGAMUK BATAL KONSER #DOES   ...      6344\n",
              "136                ALHAMDULILLAH #DOES eps 803  ...      7865\n",
              "275                THX JRX VS VV #DOES eps 721  ...      9413\n",
              "\n",
              "[10 rows x 9 columns]"
            ]
          },
          "metadata": {},
          "execution_count": 83
        }
      ]
    },
    {
      "cell_type": "code",
      "metadata": {
        "colab": {
          "base_uri": "https://localhost:8080/",
          "height": 389
        },
        "id": "I361yVqIHYIA",
        "outputId": "8175ed8b-f5aa-4d1a-dfc2-b62505fb0713"
      },
      "source": [
        "sns.set(rc={'figure.figsize':(20,5)})\n",
        "plot = sns.barplot(y=\"title\", x=\"dislike_count\", data=df_highest_disliked, palette=\"bright\")\n",
        "plot.set(xlabel='Jumlah Dislike', ylabel='')\n",
        "plt.xticks(rotation=45)\n",
        "plot.set_title('Video Paling Banyak Dislike')\n",
        "plt.xlim(0, 5000)"
      ],
      "execution_count": 84,
      "outputs": [
        {
          "output_type": "execute_result",
          "data": {
            "text/plain": [
              "(0.0, 5000.0)"
            ]
          },
          "metadata": {},
          "execution_count": 84
        },
        {
          "output_type": "display_data",
          "data": {
            "image/png": "[encoded data removed]",
            "text/plain": [
              "<Figure size 1440x360 with 1 Axes>"
            ]
          },
          "metadata": {}
        }
      ]
    },
    {
      "cell_type": "markdown",
      "metadata": {
        "id": "xZzXxXCuNdE9"
      },
      "source": [
        "**Menampilkan Grafik Video Yang Paling Banyak Mendapatkan Like**"
      ]
    },
    {
      "cell_type": "code",
      "metadata": {
        "colab": {
          "base_uri": "https://localhost:8080/",
          "height": 363
        },
        "id": "K0BY8xJAHhYH",
        "outputId": "4c97692e-aa6a-48a7-eba2-4e76e59b9afb"
      },
      "source": [
        "df_highest_liked = df.nlargest(10, 'like_count')\n",
        "df_highest_liked['title'] = df_highest_liked['title'].str[:40]\n",
        "df_highest_liked['like_count'] = df_highest_liked['like_count'] / 1\n",
        "df_highest_liked"
      ],
      "execution_count": 85,
      "outputs": [
        {
          "output_type": "execute_result",
          "data": {
            "text/html": [
              "<div>\n",
              "<style scoped>\n",
              "    .dataframe tbody tr th:only-of-type {\n",
              "        vertical-align: middle;\n",
              "    }\n",
              "\n",
              "    .dataframe tbody tr th {\n",
              "        vertical-align: top;\n",
              "    }\n",
              "\n",
              "    .dataframe thead th {\n",
              "        text-align: right;\n",
              "    }\n",
              "</style>\n",
              "<table border=\"1\" class=\"dataframe\">\n",
              "  <thead>\n",
              "    <tr style=\"text-align: right;\">\n",
              "      <th></th>\n",
              "      <th>title</th>\n",
              "      <th>description</th>\n",
              "      <th>published</th>\n",
              "      <th>view_count</th>\n",
              "      <th>like_count</th>\n",
              "      <th>dislike_count</th>\n",
              "      <th>comment_count</th>\n",
              "      <th>title_length</th>\n",
              "      <th>reactions</th>\n",
              "    </tr>\n",
              "  </thead>\n",
              "  <tbody>\n",
              "    <tr>\n",
              "      <th>1112</th>\n",
              "      <td>The Rain feat Endank Soekamti - Terlatih</td>\n",
              "      <td>Music Video of The Rain feat Endank Soekamti ‘...</td>\n",
              "      <td>2013-12-04T13:15:59Z</td>\n",
              "      <td>34202358</td>\n",
              "      <td>129713.0</td>\n",
              "      <td>3439</td>\n",
              "      <td>7785</td>\n",
              "      <td>65</td>\n",
              "      <td>148722</td>\n",
              "    </tr>\n",
              "    <tr>\n",
              "      <th>260</th>\n",
              "      <td>KEJADIAN ANEH DI MAKAM DRUMER SEVENTEEN</td>\n",
              "      <td>KEJADIAN ANEH DI MAKAM DRUMER SEVENTEEN #DOES ...</td>\n",
              "      <td>2018-12-30T18:47:34Z</td>\n",
              "      <td>3801549</td>\n",
              "      <td>34239.0</td>\n",
              "      <td>2393</td>\n",
              "      <td>1824</td>\n",
              "      <td>53</td>\n",
              "      <td>40280</td>\n",
              "    </tr>\n",
              "    <tr>\n",
              "      <th>1055</th>\n",
              "      <td>Cherrybelle - Malam Minggu (Director's C</td>\n",
              "      <td>Music Video of Cherrybelle ‘Malam Minggu’.\\nSu...</td>\n",
              "      <td>2015-07-20T20:09:30Z</td>\n",
              "      <td>1646040</td>\n",
              "      <td>29190.0</td>\n",
              "      <td>522</td>\n",
              "      <td>2210</td>\n",
              "      <td>43</td>\n",
              "      <td>34132</td>\n",
              "    </tr>\n",
              "    <tr>\n",
              "      <th>133</th>\n",
              "      <td>IWAN FALS TELAH BERUBAH #DOES eps 806</td>\n",
              "      <td>Erix Soekamti is a bassist of an Indonesian ro...</td>\n",
              "      <td>2020-03-25T07:40:52Z</td>\n",
              "      <td>1132467</td>\n",
              "      <td>16158.0</td>\n",
              "      <td>572</td>\n",
              "      <td>1539</td>\n",
              "      <td>37</td>\n",
              "      <td>19808</td>\n",
              "    </tr>\n",
              "    <tr>\n",
              "      <th>776</th>\n",
              "      <td>Erix Soekamti: VIDEO UNTUK ARI SOEKAMTI</td>\n",
              "      <td>Diary of Erix Soekamti ‘VIDEO UNTUK ARI SOEKAM...</td>\n",
              "      <td>2016-06-23T20:53:57Z</td>\n",
              "      <td>800159</td>\n",
              "      <td>11880.0</td>\n",
              "      <td>230</td>\n",
              "      <td>2155</td>\n",
              "      <td>56</td>\n",
              "      <td>16420</td>\n",
              "    </tr>\n",
              "    <tr>\n",
              "      <th>261</th>\n",
              "      <td>AMANAH BANI SEVENTEEN BAND SEBELUM MENIN</td>\n",
              "      <td>SELAMAT JALAN SEVENTEEN BAND SAUDARA KU  #DOES...</td>\n",
              "      <td>2018-12-30T18:10:40Z</td>\n",
              "      <td>524030</td>\n",
              "      <td>11022.0</td>\n",
              "      <td>130</td>\n",
              "      <td>695</td>\n",
              "      <td>58</td>\n",
              "      <td>12542</td>\n",
              "    </tr>\n",
              "    <tr>\n",
              "      <th>325</th>\n",
              "      <td>30 HARI BERSAMA SUKU IBAN #DOES eps 673</td>\n",
              "      <td>30 HARI BERSAMA SUKU IBAN #DOES (eps 673)\\n\\nS...</td>\n",
              "      <td>2018-07-15T18:13:46Z</td>\n",
              "      <td>516366</td>\n",
              "      <td>7130.0</td>\n",
              "      <td>247</td>\n",
              "      <td>440</td>\n",
              "      <td>39</td>\n",
              "      <td>8257</td>\n",
              "    </tr>\n",
              "    <tr>\n",
              "      <th>275</th>\n",
              "      <td>THX JRX VS VV #DOES eps 721</td>\n",
              "      <td>THX JRX VS VV #DOES eps 721\\n\\nSubscribe to Er...</td>\n",
              "      <td>2018-11-16T08:30:49Z</td>\n",
              "      <td>374275</td>\n",
              "      <td>6780.0</td>\n",
              "      <td>263</td>\n",
              "      <td>1185</td>\n",
              "      <td>27</td>\n",
              "      <td>9413</td>\n",
              "    </tr>\n",
              "    <tr>\n",
              "      <th>807</th>\n",
              "      <td>Erix Soekamti: MATA NAJWA RUSUH? (#DOES</td>\n",
              "      <td>Diary of Erix Soekamti ‘MATA NAJWA RUSUH? (#DO...</td>\n",
              "      <td>2016-05-14T17:23:18Z</td>\n",
              "      <td>690502</td>\n",
              "      <td>6466.0</td>\n",
              "      <td>230</td>\n",
              "      <td>1125</td>\n",
              "      <td>49</td>\n",
              "      <td>8946</td>\n",
              "    </tr>\n",
              "    <tr>\n",
              "      <th>136</th>\n",
              "      <td>ALHAMDULILLAH #DOES eps 803</td>\n",
              "      <td>DOES 803\\nErix Soekamti is a bassist of an Ind...</td>\n",
              "      <td>2020-03-12T01:29:28Z</td>\n",
              "      <td>315120</td>\n",
              "      <td>6080.0</td>\n",
              "      <td>279</td>\n",
              "      <td>753</td>\n",
              "      <td>27</td>\n",
              "      <td>7865</td>\n",
              "    </tr>\n",
              "  </tbody>\n",
              "</table>\n",
              "</div>"
            ],
            "text/plain": [
              "                                         title  ... reactions\n",
              "1112  The Rain feat Endank Soekamti - Terlatih  ...    148722\n",
              "260   KEJADIAN ANEH DI MAKAM DRUMER SEVENTEEN   ...     40280\n",
              "1055  Cherrybelle - Malam Minggu (Director's C  ...     34132\n",
              "133      IWAN FALS TELAH BERUBAH #DOES eps 806  ...     19808\n",
              "776   Erix Soekamti: VIDEO UNTUK ARI SOEKAMTI   ...     16420\n",
              "261   AMANAH BANI SEVENTEEN BAND SEBELUM MENIN  ...     12542\n",
              "325    30 HARI BERSAMA SUKU IBAN #DOES eps 673  ...      8257\n",
              "275                THX JRX VS VV #DOES eps 721  ...      9413\n",
              "807   Erix Soekamti: MATA NAJWA RUSUH? (#DOES   ...      8946\n",
              "136                ALHAMDULILLAH #DOES eps 803  ...      7865\n",
              "\n",
              "[10 rows x 9 columns]"
            ]
          },
          "metadata": {},
          "execution_count": 85
        }
      ]
    },
    {
      "cell_type": "code",
      "metadata": {
        "colab": {
          "base_uri": "https://localhost:8080/",
          "height": 399
        },
        "id": "vpqNk7XrL0kw",
        "outputId": "627d70b9-f887-4be9-d83d-351d3d01a698"
      },
      "source": [
        "sns.set(rc={'figure.figsize':(20,5)})\n",
        "plot = sns.barplot(y=\"title\", x=\"like_count\", data=df_highest_liked, palette=\"bright\")\n",
        "plot.set(xlabel='Jumlah Like', ylabel='')\n",
        "plt.xticks(rotation=45)\n",
        "plot.set_title('Video Paling Banyak Like')\n",
        "plt.xlim(0, 150000)"
      ],
      "execution_count": 86,
      "outputs": [
        {
          "output_type": "execute_result",
          "data": {
            "text/plain": [
              "(0.0, 150000.0)"
            ]
          },
          "metadata": {},
          "execution_count": 86
        },
        {
          "output_type": "display_data",
          "data": {
            "image/png": "[encoded data removed]",
            "text/plain": [
              "<Figure size 1440x360 with 1 Axes>"
            ]
          },
          "metadata": {}
        }
      ]
    },
    {
      "cell_type": "markdown",
      "metadata": {
        "id": "MyRz54LotJwH"
      },
      "source": [
        "**Menampilkan Grafik Video Dengan Comment Terbanyak**\n"
      ]
    },
    {
      "cell_type": "code",
      "metadata": {
        "colab": {
          "base_uri": "https://localhost:8080/",
          "height": 363
        },
        "id": "CwQmdKkftS_9",
        "outputId": "fe057d08-c4da-400f-c520-bf1635f79ff2"
      },
      "source": [
        "df_highest_comment = df.nlargest(10, 'comment_count')\n",
        "df_highest_comment['title'] = df_highest_comment['title'].str[:40]\n",
        "df_highest_comment['comment_count'] = df_highest_comment['comment_count'] / 1\n",
        "df_highest_comment"
      ],
      "execution_count": 90,
      "outputs": [
        {
          "output_type": "execute_result",
          "data": {
            "text/html": [
              "<div>\n",
              "<style scoped>\n",
              "    .dataframe tbody tr th:only-of-type {\n",
              "        vertical-align: middle;\n",
              "    }\n",
              "\n",
              "    .dataframe tbody tr th {\n",
              "        vertical-align: top;\n",
              "    }\n",
              "\n",
              "    .dataframe thead th {\n",
              "        text-align: right;\n",
              "    }\n",
              "</style>\n",
              "<table border=\"1\" class=\"dataframe\">\n",
              "  <thead>\n",
              "    <tr style=\"text-align: right;\">\n",
              "      <th></th>\n",
              "      <th>title</th>\n",
              "      <th>description</th>\n",
              "      <th>published</th>\n",
              "      <th>view_count</th>\n",
              "      <th>like_count</th>\n",
              "      <th>dislike_count</th>\n",
              "      <th>comment_count</th>\n",
              "      <th>title_length</th>\n",
              "      <th>reactions</th>\n",
              "    </tr>\n",
              "  </thead>\n",
              "  <tbody>\n",
              "    <tr>\n",
              "      <th>1112</th>\n",
              "      <td>The Rain feat Endank Soekamti - Terlatih</td>\n",
              "      <td>Music Video of The Rain feat Endank Soekamti ‘...</td>\n",
              "      <td>2013-12-04T13:15:59Z</td>\n",
              "      <td>34202358</td>\n",
              "      <td>129713</td>\n",
              "      <td>3439</td>\n",
              "      <td>7785.0</td>\n",
              "      <td>65</td>\n",
              "      <td>148722</td>\n",
              "    </tr>\n",
              "    <tr>\n",
              "      <th>1055</th>\n",
              "      <td>Cherrybelle - Malam Minggu (Director's C</td>\n",
              "      <td>Music Video of Cherrybelle ‘Malam Minggu’.\\nSu...</td>\n",
              "      <td>2015-07-20T20:09:30Z</td>\n",
              "      <td>1646040</td>\n",
              "      <td>29190</td>\n",
              "      <td>522</td>\n",
              "      <td>2210.0</td>\n",
              "      <td>43</td>\n",
              "      <td>34132</td>\n",
              "    </tr>\n",
              "    <tr>\n",
              "      <th>776</th>\n",
              "      <td>Erix Soekamti: VIDEO UNTUK ARI SOEKAMTI</td>\n",
              "      <td>Diary of Erix Soekamti ‘VIDEO UNTUK ARI SOEKAM...</td>\n",
              "      <td>2016-06-23T20:53:57Z</td>\n",
              "      <td>800159</td>\n",
              "      <td>11880</td>\n",
              "      <td>230</td>\n",
              "      <td>2155.0</td>\n",
              "      <td>56</td>\n",
              "      <td>16420</td>\n",
              "    </tr>\n",
              "    <tr>\n",
              "      <th>260</th>\n",
              "      <td>KEJADIAN ANEH DI MAKAM DRUMER SEVENTEEN</td>\n",
              "      <td>KEJADIAN ANEH DI MAKAM DRUMER SEVENTEEN #DOES ...</td>\n",
              "      <td>2018-12-30T18:47:34Z</td>\n",
              "      <td>3801549</td>\n",
              "      <td>34239</td>\n",
              "      <td>2393</td>\n",
              "      <td>1824.0</td>\n",
              "      <td>53</td>\n",
              "      <td>40280</td>\n",
              "    </tr>\n",
              "    <tr>\n",
              "      <th>133</th>\n",
              "      <td>IWAN FALS TELAH BERUBAH #DOES eps 806</td>\n",
              "      <td>Erix Soekamti is a bassist of an Indonesian ro...</td>\n",
              "      <td>2020-03-25T07:40:52Z</td>\n",
              "      <td>1132467</td>\n",
              "      <td>16158</td>\n",
              "      <td>572</td>\n",
              "      <td>1539.0</td>\n",
              "      <td>37</td>\n",
              "      <td>19808</td>\n",
              "    </tr>\n",
              "    <tr>\n",
              "      <th>275</th>\n",
              "      <td>THX JRX VS VV #DOES eps 721</td>\n",
              "      <td>THX JRX VS VV #DOES eps 721\\n\\nSubscribe to Er...</td>\n",
              "      <td>2018-11-16T08:30:49Z</td>\n",
              "      <td>374275</td>\n",
              "      <td>6780</td>\n",
              "      <td>263</td>\n",
              "      <td>1185.0</td>\n",
              "      <td>27</td>\n",
              "      <td>9413</td>\n",
              "    </tr>\n",
              "    <tr>\n",
              "      <th>170</th>\n",
              "      <td>DERRY SILUMAN MUSIK ITU HARAM #DOES eps</td>\n",
              "      <td>DOES EPS 769\\n\\nErix Soekamti is a bassist of ...</td>\n",
              "      <td>2019-10-29T05:40:59Z</td>\n",
              "      <td>251358</td>\n",
              "      <td>5679</td>\n",
              "      <td>249</td>\n",
              "      <td>1147.0</td>\n",
              "      <td>43</td>\n",
              "      <td>8222</td>\n",
              "    </tr>\n",
              "    <tr>\n",
              "      <th>807</th>\n",
              "      <td>Erix Soekamti: MATA NAJWA RUSUH? (#DOES</td>\n",
              "      <td>Diary of Erix Soekamti ‘MATA NAJWA RUSUH? (#DO...</td>\n",
              "      <td>2016-05-14T17:23:18Z</td>\n",
              "      <td>690502</td>\n",
              "      <td>6466</td>\n",
              "      <td>230</td>\n",
              "      <td>1125.0</td>\n",
              "      <td>49</td>\n",
              "      <td>8946</td>\n",
              "    </tr>\n",
              "    <tr>\n",
              "      <th>625</th>\n",
              "      <td>LIVING ON BOARD #DOESTHEMOVIE | Erix Soe</td>\n",
              "      <td>Diary of Erix Soekamti ‘LIVING ON BOARD (#DOES...</td>\n",
              "      <td>2017-01-21T16:56:10Z</td>\n",
              "      <td>191252</td>\n",
              "      <td>4742</td>\n",
              "      <td>54</td>\n",
              "      <td>1038.0</td>\n",
              "      <td>45</td>\n",
              "      <td>6872</td>\n",
              "    </tr>\n",
              "    <tr>\n",
              "      <th>273</th>\n",
              "      <td>Bukti kasus Angel lelga Vicky prastyo cu</td>\n",
              "      <td>WOW! begini kondisi Angel lelga saat digrebeg ...</td>\n",
              "      <td>2018-11-20T05:31:58Z</td>\n",
              "      <td>71692</td>\n",
              "      <td>1083</td>\n",
              "      <td>172</td>\n",
              "      <td>940.0</td>\n",
              "      <td>51</td>\n",
              "      <td>3135</td>\n",
              "    </tr>\n",
              "  </tbody>\n",
              "</table>\n",
              "</div>"
            ],
            "text/plain": [
              "                                         title  ... reactions\n",
              "1112  The Rain feat Endank Soekamti - Terlatih  ...    148722\n",
              "1055  Cherrybelle - Malam Minggu (Director's C  ...     34132\n",
              "776   Erix Soekamti: VIDEO UNTUK ARI SOEKAMTI   ...     16420\n",
              "260   KEJADIAN ANEH DI MAKAM DRUMER SEVENTEEN   ...     40280\n",
              "133      IWAN FALS TELAH BERUBAH #DOES eps 806  ...     19808\n",
              "275                THX JRX VS VV #DOES eps 721  ...      9413\n",
              "170   DERRY SILUMAN MUSIK ITU HARAM #DOES eps   ...      8222\n",
              "807   Erix Soekamti: MATA NAJWA RUSUH? (#DOES   ...      8946\n",
              "625   LIVING ON BOARD #DOESTHEMOVIE | Erix Soe  ...      6872\n",
              "273   Bukti kasus Angel lelga Vicky prastyo cu  ...      3135\n",
              "\n",
              "[10 rows x 9 columns]"
            ]
          },
          "metadata": {},
          "execution_count": 90
        }
      ]
    },
    {
      "cell_type": "code",
      "metadata": {
        "colab": {
          "base_uri": "https://localhost:8080/",
          "height": 395
        },
        "id": "T-ef69iEtdJF",
        "outputId": "ef021292-e94f-47d5-ee9f-8fb9817267bc"
      },
      "source": [
        "sns.set(rc={'figure.figsize':(20,5)})\n",
        "plot = sns.barplot(y=\"title\", x=\"comment_count\", data=df_highest_comment, palette=\"bright\")\n",
        "plot.set(xlabel='Jumlah Comment', ylabel='')\n",
        "plt.xticks(rotation=45)\n",
        "plot.set_title('Video Paling Banyak Comment')\n",
        "plt.xlim(0, 10000)"
      ],
      "execution_count": 92,
      "outputs": [
        {
          "output_type": "execute_result",
          "data": {
            "text/plain": [
              "(0.0, 10000.0)"
            ]
          },
          "metadata": {},
          "execution_count": 92
        },
        {
          "output_type": "display_data",
          "data": {
            "image/png": "[encoded data removed]",
            "text/plain": [
              "<Figure size 1440x360 with 1 Axes>"
            ]
          },
          "metadata": {}
        }
      ]
    }
  ]
}
